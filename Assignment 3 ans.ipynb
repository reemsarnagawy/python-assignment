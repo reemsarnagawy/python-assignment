{
 "cells": [
  {
   "cell_type": "markdown",
   "metadata": {},
   "source": [
    "# Assignment 3"
   ]
  },
  {
   "cell_type": "markdown",
   "metadata": {},
   "source": [
    "### Write a function to count the number 4 in a given list."
   ]
  },
  {
   "cell_type": "code",
   "execution_count": 2,
   "metadata": {},
   "outputs": [
    {
     "name": "stdout",
     "output_type": "stream",
     "text": [
      "4\n"
     ]
    }
   ],
   "source": [
    "def count4(x):\n",
    "    counter = 0\n",
    "    for i in x:\n",
    "        if i == 4 :\n",
    "            counter+=1\n",
    "    return counter\n",
    "\n",
    "lst=[1,2,4,5,6,4,6,7,4,8,4,3,2]\n",
    "print(count4(lst))"
   ]
  },
  {
   "cell_type": "markdown",
   "metadata": {},
   "source": [
    "### write a  function to check whether a number is divisible by another number."
   ]
  },
  {
   "cell_type": "code",
   "execution_count": 31,
   "metadata": {},
   "outputs": [
    {
     "name": "stdout",
     "output_type": "stream",
     "text": [
      "9 is divisible by 3\n",
      "inset two number separated by space to know if one is divisible by the other3 9\n",
      "9 is divisible by 3\n"
     ]
    }
   ],
   "source": [
    "def chek_x_dev_y(x,y):\n",
    "    if x!=0 and y!= 0 :\n",
    "        if x%y == 0:\n",
    "            print(x,\"is divisible by\",y)\n",
    "        elif y%x == 0:\n",
    "            print(y,\"is divisible by\",x)\n",
    "        else :\n",
    "            print('Not divisible ')\n",
    "    else :\n",
    "        print(\"dont ensert ZERO !! \")\n",
    "\n",
    "#f = int(input('enter the first number'))\n",
    "#s = int(input('enter the 2nd number'))\n",
    "chek_x_dev_y(f,s)\n",
    "two_num = input('inset two number separated by space to know if one is divisible by the other')\n",
    "#two_num\n",
    "two_num=two_num.split()\n",
    "#two_num\n",
    "f= int(two_num[0])\n",
    "s= int(two_num[1])\n",
    "chek_x_dev_y(f,s)"
   ]
  },
  {
   "cell_type": "code",
   "execution_count": null,
   "metadata": {
    "collapsed": true
   },
   "outputs": [],
   "source": []
  },
  {
   "cell_type": "markdown",
   "metadata": {},
   "source": [
    "### Write a Python function that takes two lists and returns True if they have at least one common member."
   ]
  },
  {
   "cell_type": "code",
   "execution_count": 56,
   "metadata": {},
   "outputs": [
    {
     "name": "stdout",
     "output_type": "stream",
     "text": [
      "enter the first list : 11 23 5667 890 8765 221 11 \n",
      "enter the 2nd list : 12 3 45 77 87 554 33 44 12 kk\n"
     ]
    },
    {
     "data": {
      "text/plain": [
       "False"
      ]
     },
     "execution_count": 56,
     "metadata": {},
     "output_type": "execute_result"
    }
   ],
   "source": [
    "def commen_num(x,y):\n",
    "    result = False  \n",
    "    for i in range(len(x)):\n",
    "        for j in range(len(y)) :\n",
    "            if x[i] == y[j]:\n",
    "                result = True \n",
    "                return result \n",
    "    return result\n",
    "l1=input('enter the first list : ')\n",
    "l1 = l1.split()\n",
    "l2=input('enter the 2nd list : ')\n",
    "l2 = l2.split()\n",
    "commen_num(l1,l2)\n"
   ]
  },
  {
   "cell_type": "markdown",
   "metadata": {},
   "source": [
    "###### Write a Python function to calculate the factorial of a number (a non-negative integer). The function accepts the number from the user"
   ]
  },
  {
   "cell_type": "code",
   "execution_count": 69,
   "metadata": {},
   "outputs": [
    {
     "name": "stdout",
     "output_type": "stream",
     "text": [
      "ensert one number to calculate its factorial : 7\n",
      "its factorila is : 5040\n"
     ]
    }
   ],
   "source": [
    "def fact(x):\n",
    "    fct=1\n",
    "    if x == 0:\n",
    "        return 1\n",
    "    elif x > 0 :\n",
    "        for i in range(1,x+1) :\n",
    "            fct*=i\n",
    "        return fct\n",
    "    else :\n",
    "        print('please ensert +ve integer')\n",
    "\n",
    "num = int(input(\"ensert one number to calculate its factorial : \"))\n",
    "print('its factorila is :',fact(num))"
   ]
  },
  {
   "cell_type": "markdown",
   "metadata": {},
   "source": [
    "### Write a Python function to check whether a number is in a given range.\n",
    "\n",
    "### The range is from 3 to 11\n"
   ]
  },
  {
   "cell_type": "code",
   "execution_count": 74,
   "metadata": {},
   "outputs": [
    {
     "name": "stdout",
     "output_type": "stream",
     "text": [
      "enter a number to find it in the range [3,11] : 3\n",
      "found\n"
     ]
    }
   ],
   "source": [
    "def num_inRange(x):\n",
    "        if x >=3 and x <= 11 :\n",
    "            return \"found\"\n",
    "        else :\n",
    "            return \"not found\"\n",
    "X = int(input('enter a number to find it in the range [3,11] : '))\n",
    "print(num_inRange(X))"
   ]
  },
  {
   "cell_type": "markdown",
   "metadata": {},
   "source": [
    "### Write a  program to create the multiplication table (from 1 to 10) of a number."
   ]
  },
  {
   "cell_type": "code",
   "execution_count": 79,
   "metadata": {},
   "outputs": [
    {
     "name": "stdout",
     "output_type": "stream",
     "text": [
      "enter a num to see its multiplication table : 9\n",
      "9 * 1 = 9\n",
      "9 * 2 = 18\n",
      "9 * 3 = 27\n",
      "9 * 4 = 36\n",
      "9 * 5 = 45\n",
      "9 * 6 = 54\n",
      "9 * 7 = 63\n",
      "9 * 8 = 72\n",
      "9 * 9 = 81\n",
      "9 * 10 = 90\n"
     ]
    }
   ],
   "source": [
    "def mult_table(x):\n",
    "    for i in range(1,11):\n",
    "        print(x,\"*\",i,\"=\",x*i)\n",
    "n=int(input('enter a num to see its multiplication table : '))\n",
    "mult_table(n)"
   ]
  },
  {
   "cell_type": "markdown",
   "metadata": {},
   "source": [
    "#### LESSER OF TWO EVENS: Write a function that returns the lesser of two given numbers *if* both numbers are even, but returns the greater if one or both numbers are odd\n",
    "    lesser_of_two_evens(2,4) --> 2\n",
    "    lesser_of_two_evens(2,5) --> 5"
   ]
  },
  {
   "cell_type": "code",
   "execution_count": 83,
   "metadata": {},
   "outputs": [
    {
     "name": "stdout",
     "output_type": "stream",
     "text": [
      "enter two numbers separated with space : 6 8\n",
      "the lesser of two evens is: 6\n"
     ]
    }
   ],
   "source": [
    "def LessOfTwoEvens(x,y):\n",
    "    if x%2==0 and y%2==0:\n",
    "        if x>y:\n",
    "            print('the lesser of two evens is:',y)\n",
    "        else :\n",
    "            print('the lesser of two evens is:',x)\n",
    "    else:\n",
    "        if x<y :\n",
    "            print('the greater of two non evens is:',y)\n",
    "        else :\n",
    "            print('the greater of non two evens is:',x)\n",
    "\n",
    "l=input('enter two numbers separated with space : ')\n",
    "l=l.split()\n",
    "l\n",
    "LessOfTwoEvens(int(l[0]),int(l[1]))"
   ]
  },
  {
   "cell_type": "markdown",
   "metadata": {},
   "source": [
    "#### ANIMAL CRACKERS: Write a function takes a two-word string and returns True if both words begin with same letter\n",
    "    animal_crackers('Levelheaded Llama') --> True\n",
    "    animal_crackers('Crazy Kangaroo') --> False"
   ]
  },
  {
   "cell_type": "code",
   "execution_count": 86,
   "metadata": {},
   "outputs": [
    {
     "name": "stdout",
     "output_type": "stream",
     "text": [
      "enter two words where TRUE means both word starts with the same letter : start stop\n",
      "True\n"
     ]
    }
   ],
   "source": [
    "def StartWithSameLetter(s):\n",
    "    s=s.split()\n",
    "    if s[0][0] == s[1][0]:\n",
    "        return True\n",
    "    else :\n",
    "        return False\n",
    "st=input('enter two words where TRUE means both word starts with the same letter : ')\n",
    "print(StartWithSameLetter(st))"
   ]
  },
  {
   "cell_type": "markdown",
   "metadata": {},
   "source": [
    "#### MAKES TWENTY: Given two integers, return True if the sum of the integers is 20 *or* if one of the integers is 20. If not, return False\n",
    "\n",
    "    makes_twenty(20,10) --> True\n",
    "    makes_twenty(12,8) --> True\n",
    "    makes_twenty(2,3) --> False"
   ]
  },
  {
   "cell_type": "code",
   "execution_count": 96,
   "metadata": {},
   "outputs": [
    {
     "name": "stdout",
     "output_type": "stream",
     "text": [
      "enter two integers , True output means one or the sum of them is 20 : 2 3\n",
      "False\n"
     ]
    }
   ],
   "source": [
    "def makesTwenty(x,y):\n",
    "    if (x+y) == 20 or x == 20 or y == 20 :\n",
    "        return True\n",
    "    else :\n",
    "        return False\n",
    "l=input('enter two integers , True output means one or the sum of them is 20 : ')\n",
    "l=l.split()\n",
    "print(makesTwenty(int(l[0]),int(l[1])))"
   ]
  },
  {
   "cell_type": "markdown",
   "metadata": {},
   "source": [
    "#### ALMOST THERE: Given an integer n, return True if n is within 10 of either 100 or 200\n",
    "\n",
    "    almost_there(90) --> True\n",
    "    almost_there(104) --> True\n",
    "    almost_there(150) --> False\n",
    "    almost_there(209) --> True\n",
    "    \n",
    "NOTE: `abs(num)` returns the absolute value of a number"
   ]
  },
  {
   "cell_type": "code",
   "execution_count": 100,
   "metadata": {},
   "outputs": [
    {
     "name": "stdout",
     "output_type": "stream",
     "text": [
      "enter an intger to know if it is within 10 of either 100 or 200 : 299\n",
      "False\n"
     ]
    }
   ],
   "source": [
    "## Methode 1\n",
    "def almost_there(n):\n",
    "    if abs(100-n) <= 10 or abs(200-n) <= 10 :\n",
    "        return True \n",
    "    else :\n",
    "        return False\n",
    "N=int(input('enter an intger to know if it is within 10 of either 100 or 200 : '))\n",
    "print(almost_there(N))"
   ]
  },
  {
   "cell_type": "code",
   "execution_count": 103,
   "metadata": {},
   "outputs": [
    {
     "name": "stdout",
     "output_type": "stream",
     "text": [
      "enter an intger to know if it is within 10 of either 100 or 200 : 999\n",
      "False\n"
     ]
    }
   ],
   "source": [
    "## Methode 2\n",
    "def almost_there(n):\n",
    "    if (90 <= n and 110 >= n) or (190 <= n and 210 >= n) :\n",
    "        return True \n",
    "    else :\n",
    "        return False\n",
    "N=int(input('enter an intger to know if it is within 10 of either 100 or 200 : '))\n",
    "print(almost_there(N))"
   ]
  },
  {
   "cell_type": "markdown",
   "metadata": {},
   "source": [
    "#### BLACKJACK: Given three integers between 1 and 11, if their sum is less than or equal to 21, return their sum. If their sum exceeds 21 *and* there's an eleven, reduce the total sum by 10. Finally, if the sum  exceeds 21, return 'BUST'\n",
    "    blackjack(5,6,7) --> 18\n",
    "    blackjack(9,9,9) --> 'BUST'\n",
    "    blackjack(9,9,11) --> 19"
   ]
  },
  {
   "cell_type": "code",
   "execution_count": 110,
   "metadata": {},
   "outputs": [
    {
     "name": "stdout",
     "output_type": "stream",
     "text": [
      "enter 3 numbers B) : 11 9 9\n",
      "19\n"
     ]
    }
   ],
   "source": [
    "def BlackJack(x,y,z):\n",
    "    s=x+y+z\n",
    "    if s <= 21 :\n",
    "        return s\n",
    "    elif x==11 or y==11 or z==11 :\n",
    "        return (s-10)\n",
    "    else :\n",
    "        return \"BUST\"\n",
    "nums=input('enter 3 numbers B) : ')\n",
    "nums = nums.split()\n",
    "x,y,z = int(nums[0]),int(nums[1]),int(nums[2])\n",
    "print(BlackJack(x,y,z))"
   ]
  },
  {
   "cell_type": "code",
   "execution_count": null,
   "metadata": {},
   "outputs": [],
   "source": []
  }
 ],
 "metadata": {
  "kernelspec": {
   "display_name": "Python 3 (ipykernel)",
   "language": "python",
   "name": "python3"
  },
  "language_info": {
   "codemirror_mode": {
    "name": "ipython",
    "version": 3
   },
   "file_extension": ".py",
   "mimetype": "text/x-python",
   "name": "python",
   "nbconvert_exporter": "python",
   "pygments_lexer": "ipython3",
   "version": "3.9.12"
  }
 },
 "nbformat": 4,
 "nbformat_minor": 2
}
