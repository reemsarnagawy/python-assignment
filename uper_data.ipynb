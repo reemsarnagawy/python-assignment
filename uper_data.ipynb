{
 "cells": [
  {
   "cell_type": "code",
   "execution_count": 1,
   "id": "ec1bfd16",
   "metadata": {},
   "outputs": [],
   "source": [
    "import numpy as np\n",
    "from scipy import stats\n",
    "import pandas as pd\n",
    "import matplotlib.pyplot as plt\n",
    "import seaborn as sns\n",
    "import sklearn\n",
    "import datetime \n",
    "from datetime import datetime\n",
    "#from sklearn.preprocessing import LabelEncoder\n",
    "from sklearn import preprocessing\n",
    "from sklearn.linear_model import LinearRegression\n",
    "from sklearn.preprocessing import MinMaxScaler\n",
    "from sklearn.model_selection import train_test_split"
   ]
  },
  {
   "cell_type": "code",
   "execution_count": 2,
   "id": "3f69e130",
   "metadata": {},
   "outputs": [
    {
     "data": {
      "text/html": [
       "<div>\n",
       "<style scoped>\n",
       "    .dataframe tbody tr th:only-of-type {\n",
       "        vertical-align: middle;\n",
       "    }\n",
       "\n",
       "    .dataframe tbody tr th {\n",
       "        vertical-align: top;\n",
       "    }\n",
       "\n",
       "    .dataframe thead th {\n",
       "        text-align: right;\n",
       "    }\n",
       "</style>\n",
       "<table border=\"1\" class=\"dataframe\">\n",
       "  <thead>\n",
       "    <tr style=\"text-align: right;\">\n",
       "      <th></th>\n",
       "      <th>Request id</th>\n",
       "      <th>Pickup point</th>\n",
       "      <th>Driver id</th>\n",
       "      <th>Status</th>\n",
       "      <th>Request timestamp</th>\n",
       "      <th>Drop timestamp</th>\n",
       "    </tr>\n",
       "  </thead>\n",
       "  <tbody>\n",
       "    <tr>\n",
       "      <th>0</th>\n",
       "      <td>619</td>\n",
       "      <td>Airport</td>\n",
       "      <td>1.0</td>\n",
       "      <td>Trip Completed</td>\n",
       "      <td>11/7/2016 11:51</td>\n",
       "      <td>11/7/2016 13:00</td>\n",
       "    </tr>\n",
       "    <tr>\n",
       "      <th>1</th>\n",
       "      <td>867</td>\n",
       "      <td>Airport</td>\n",
       "      <td>1.0</td>\n",
       "      <td>Trip Completed</td>\n",
       "      <td>11/7/2016 17:57</td>\n",
       "      <td>11/7/2016 18:47</td>\n",
       "    </tr>\n",
       "    <tr>\n",
       "      <th>2</th>\n",
       "      <td>1807</td>\n",
       "      <td>City</td>\n",
       "      <td>1.0</td>\n",
       "      <td>Trip Completed</td>\n",
       "      <td>12/7/2016 9:17</td>\n",
       "      <td>12/7/2016 9:58</td>\n",
       "    </tr>\n",
       "    <tr>\n",
       "      <th>3</th>\n",
       "      <td>2532</td>\n",
       "      <td>Airport</td>\n",
       "      <td>1.0</td>\n",
       "      <td>Trip Completed</td>\n",
       "      <td>12/7/2016 21:08</td>\n",
       "      <td>12/7/2016 22:03</td>\n",
       "    </tr>\n",
       "    <tr>\n",
       "      <th>4</th>\n",
       "      <td>3112</td>\n",
       "      <td>City</td>\n",
       "      <td>1.0</td>\n",
       "      <td>Trip Completed</td>\n",
       "      <td>13-07-2016 08:33:16</td>\n",
       "      <td>13-07-2016 09:25:47</td>\n",
       "    </tr>\n",
       "    <tr>\n",
       "      <th>...</th>\n",
       "      <td>...</td>\n",
       "      <td>...</td>\n",
       "      <td>...</td>\n",
       "      <td>...</td>\n",
       "      <td>...</td>\n",
       "      <td>...</td>\n",
       "    </tr>\n",
       "    <tr>\n",
       "      <th>6740</th>\n",
       "      <td>6745</td>\n",
       "      <td>City</td>\n",
       "      <td>NaN</td>\n",
       "      <td>No Cars Available</td>\n",
       "      <td>15-07-2016 23:49:03</td>\n",
       "      <td>NaN</td>\n",
       "    </tr>\n",
       "    <tr>\n",
       "      <th>6741</th>\n",
       "      <td>6752</td>\n",
       "      <td>Airport</td>\n",
       "      <td>NaN</td>\n",
       "      <td>No Cars Available</td>\n",
       "      <td>15-07-2016 23:50:05</td>\n",
       "      <td>NaN</td>\n",
       "    </tr>\n",
       "    <tr>\n",
       "      <th>6742</th>\n",
       "      <td>6751</td>\n",
       "      <td>City</td>\n",
       "      <td>NaN</td>\n",
       "      <td>No Cars Available</td>\n",
       "      <td>15-07-2016 23:52:06</td>\n",
       "      <td>NaN</td>\n",
       "    </tr>\n",
       "    <tr>\n",
       "      <th>6743</th>\n",
       "      <td>6754</td>\n",
       "      <td>City</td>\n",
       "      <td>NaN</td>\n",
       "      <td>No Cars Available</td>\n",
       "      <td>15-07-2016 23:54:39</td>\n",
       "      <td>NaN</td>\n",
       "    </tr>\n",
       "    <tr>\n",
       "      <th>6744</th>\n",
       "      <td>6753</td>\n",
       "      <td>Airport</td>\n",
       "      <td>NaN</td>\n",
       "      <td>No Cars Available</td>\n",
       "      <td>15-07-2016 23:55:03</td>\n",
       "      <td>NaN</td>\n",
       "    </tr>\n",
       "  </tbody>\n",
       "</table>\n",
       "<p>6745 rows × 6 columns</p>\n",
       "</div>"
      ],
      "text/plain": [
       "      Request id Pickup point  Driver id             Status  \\\n",
       "0            619      Airport        1.0     Trip Completed   \n",
       "1            867      Airport        1.0     Trip Completed   \n",
       "2           1807         City        1.0     Trip Completed   \n",
       "3           2532      Airport        1.0     Trip Completed   \n",
       "4           3112         City        1.0     Trip Completed   \n",
       "...          ...          ...        ...                ...   \n",
       "6740        6745         City        NaN  No Cars Available   \n",
       "6741        6752      Airport        NaN  No Cars Available   \n",
       "6742        6751         City        NaN  No Cars Available   \n",
       "6743        6754         City        NaN  No Cars Available   \n",
       "6744        6753      Airport        NaN  No Cars Available   \n",
       "\n",
       "        Request timestamp       Drop timestamp  \n",
       "0         11/7/2016 11:51      11/7/2016 13:00  \n",
       "1         11/7/2016 17:57      11/7/2016 18:47  \n",
       "2          12/7/2016 9:17       12/7/2016 9:58  \n",
       "3         12/7/2016 21:08      12/7/2016 22:03  \n",
       "4     13-07-2016 08:33:16  13-07-2016 09:25:47  \n",
       "...                   ...                  ...  \n",
       "6740  15-07-2016 23:49:03                  NaN  \n",
       "6741  15-07-2016 23:50:05                  NaN  \n",
       "6742  15-07-2016 23:52:06                  NaN  \n",
       "6743  15-07-2016 23:54:39                  NaN  \n",
       "6744  15-07-2016 23:55:03                  NaN  \n",
       "\n",
       "[6745 rows x 6 columns]"
      ]
     },
     "execution_count": 2,
     "metadata": {},
     "output_type": "execute_result"
    }
   ],
   "source": [
    "df = pd.read_csv(r\"D:\\AI\\Beta\\Uber Request Data.csv\")\n",
    "df"
   ]
  },
  {
   "cell_type": "code",
   "execution_count": 3,
   "id": "b66d8a36",
   "metadata": {},
   "outputs": [
    {
     "name": "stdout",
     "output_type": "stream",
     "text": [
      "<class 'pandas.core.frame.DataFrame'>\n",
      "RangeIndex: 6745 entries, 0 to 6744\n",
      "Data columns (total 6 columns):\n",
      " #   Column             Non-Null Count  Dtype  \n",
      "---  ------             --------------  -----  \n",
      " 0   Request id         6745 non-null   int64  \n",
      " 1   Pickup point       6745 non-null   object \n",
      " 2   Driver id          4095 non-null   float64\n",
      " 3   Status             6745 non-null   object \n",
      " 4   Request timestamp  6745 non-null   object \n",
      " 5   Drop timestamp     2831 non-null   object \n",
      "dtypes: float64(1), int64(1), object(4)\n",
      "memory usage: 316.3+ KB\n"
     ]
    }
   ],
   "source": [
    "df.info()"
   ]
  },
  {
   "cell_type": "code",
   "execution_count": 4,
   "id": "e81f3d68",
   "metadata": {},
   "outputs": [
    {
     "data": {
      "text/plain": [
       "Request id              0\n",
       "Pickup point            0\n",
       "Driver id            2650\n",
       "Status                  0\n",
       "Request timestamp       0\n",
       "Drop timestamp       3914\n",
       "dtype: int64"
      ]
     },
     "execution_count": 4,
     "metadata": {},
     "output_type": "execute_result"
    }
   ],
   "source": [
    "df.isnull().sum()"
   ]
  },
  {
   "cell_type": "code",
   "execution_count": 5,
   "id": "1a8130f4",
   "metadata": {},
   "outputs": [
    {
     "data": {
      "text/plain": [
       "0"
      ]
     },
     "execution_count": 5,
     "metadata": {},
     "output_type": "execute_result"
    }
   ],
   "source": [
    "df.duplicated().sum()"
   ]
  },
  {
   "cell_type": "code",
   "execution_count": 6,
   "id": "fe22338f",
   "metadata": {},
   "outputs": [],
   "source": [
    "## droping usless features and some nan rows\n",
    "df.drop('Request id',inplace=True,axis=1)\n",
    "df = df[df['Driver id'].notna()]"
   ]
  },
  {
   "cell_type": "code",
   "execution_count": null,
   "id": "84ec7abd",
   "metadata": {},
   "outputs": [],
   "source": [
    "## this for plotting porposes\n",
    "month_records = df['Request timestamp'].dt.month_name()\n",
    "day_records = df['Request timestamp'].dt.day_name()"
   ]
  },
  {
   "cell_type": "code",
   "execution_count": 7,
   "id": "35a58556",
   "metadata": {},
   "outputs": [],
   "source": [
    "## for those who like to see data in numric forms :)\n",
    "#df.groupby('Pickup point').count()\n",
    "#df.groupby('Driver id').count()\n",
    "#df.groupby('Status').count()"
   ]
  },
  {
   "cell_type": "code",
   "execution_count": 8,
   "id": "929debb8",
   "metadata": {},
   "outputs": [
    {
     "data": {
      "text/plain": [
       "<AxesSubplot:xlabel='Driver id', ylabel='Count'>"
      ]
     },
     "execution_count": 8,
     "metadata": {},
     "output_type": "execute_result"
    },
    {
     "data": {
      "image/png": "[encoded data removed]",
      "text/plain": [
       "<Figure size 1080x360 with 1 Axes>"
      ]
     },
     "metadata": {
      "needs_background": "light"
     },
     "output_type": "display_data"
    }
   ],
   "source": [
    "# data visualization\n",
    "plt.figure(figsize=[15,5])\n",
    "sns.histplot(x=df['Driver id'])"
   ]
  },
  {
   "cell_type": "code",
   "execution_count": 9,
   "id": "8a24e4b7",
   "metadata": {},
   "outputs": [
    {
     "data": {
      "text/plain": [
       "<AxesSubplot:xlabel='Status', ylabel='count'>"
      ]
     },
     "execution_count": 9,
     "metadata": {},
     "output_type": "execute_result"
    },
    {
     "data": {
      "image/png": "[encoded data removed]",
      "text/plain": [
       "<Figure size 1080x360 with 1 Axes>"
      ]
     },
     "metadata": {
      "needs_background": "light"
     },
     "output_type": "display_data"
    }
   ],
   "source": [
    "plt.figure(figsize=[15,5])\n",
    "#plt.subplot(1,2,1)\n",
    "#sns.countplot(x=df['Pickup point'])\n",
    "#plt.subplot(1,2,2)\n",
    "sns.countplot(x=df['Status'] ,hue=df['Pickup point'])"
   ]
  },
  {
   "cell_type": "code",
   "execution_count": 16,
   "id": "df6a674d",
   "metadata": {},
   "outputs": [
    {
     "name": "stderr",
     "output_type": "stream",
     "text": [
      "C:\\Users\\lenovo\\anaconda3\\lib\\site-packages\\seaborn\\_decorators.py:36: FutureWarning: Pass the following variable as a keyword arg: x. From version 0.12, the only valid positional argument will be `data`, and passing other arguments without an explicit keyword will result in an error or misinterpretation.\n",
      "  warnings.warn(\n"
     ]
    },
    {
     "data": {
      "text/plain": [
       "<AxesSubplot:xlabel='Request timestamp', ylabel='count'>"
      ]
     },
     "execution_count": 16,
     "metadata": {},
     "output_type": "execute_result"
    },
    {
     "data": {
      "image/png": "[encoded data removed]",
      "text/plain": [
       "<Figure size 432x288 with 1 Axes>"
      ]
     },
     "metadata": {
      "needs_background": "light"
     },
     "output_type": "display_data"
    }
   ],
   "source": [
    "sns.countplot(day_records ,hue=df['Pickup point'])"
   ]
  },
  {
   "cell_type": "code",
   "execution_count": 17,
   "id": "2f801eee",
   "metadata": {},
   "outputs": [
    {
     "name": "stderr",
     "output_type": "stream",
     "text": [
      "C:\\Users\\lenovo\\anaconda3\\lib\\site-packages\\seaborn\\_decorators.py:36: FutureWarning: Pass the following variable as a keyword arg: x. From version 0.12, the only valid positional argument will be `data`, and passing other arguments without an explicit keyword will result in an error or misinterpretation.\n",
      "  warnings.warn(\n"
     ]
    },
    {
     "data": {
      "text/plain": [
       "<AxesSubplot:xlabel='Request timestamp', ylabel='count'>"
      ]
     },
     "execution_count": 17,
     "metadata": {},
     "output_type": "execute_result"
    },
    {
     "data": {
      "image/png": "[encoded data removed]",
      "text/plain": [
       "<Figure size 432x288 with 1 Axes>"
      ]
     },
     "metadata": {
      "needs_background": "light"
     },
     "output_type": "display_data"
    }
   ],
   "source": [
    "sns.countplot(month_records ,hue=df['Pickup point'])"
   ]
  },
  {
   "cell_type": "code",
   "execution_count": 18,
   "id": "5db8a181",
   "metadata": {},
   "outputs": [
    {
     "name": "stdout",
     "output_type": "stream",
     "text": [
      "<class 'pandas.core.frame.DataFrame'>\n",
      "Int64Index: 4095 entries, 0 to 4094\n",
      "Data columns (total 11 columns):\n",
      " #   Column             Non-Null Count  Dtype         \n",
      "---  ------             --------------  -----         \n",
      " 0   Pickup point       4095 non-null   object        \n",
      " 1   Driver id          4095 non-null   float64       \n",
      " 2   Status             4095 non-null   object        \n",
      " 3   Request timestamp  4095 non-null   datetime64[ns]\n",
      " 4   Drop timestamp     2831 non-null   datetime64[ns]\n",
      " 5   month              4095 non-null   int64         \n",
      " 6   day                4095 non-null   int64         \n",
      " 7   S_hour             4095 non-null   int64         \n",
      " 8   S_minute           4095 non-null   int64         \n",
      " 9   E_hour             2831 non-null   float64       \n",
      " 10  E_minute           2831 non-null   float64       \n",
      "dtypes: datetime64[ns](2), float64(3), int64(4), object(2)\n",
      "memory usage: 383.9+ KB\n"
     ]
    },
    {
     "name": "stderr",
     "output_type": "stream",
     "text": [
      "C:\\Users\\lenovo\\AppData\\Local\\Temp\\ipykernel_13688\\2145226266.py:2: SettingWithCopyWarning: \n",
      "A value is trying to be set on a copy of a slice from a DataFrame.\n",
      "Try using .loc[row_indexer,col_indexer] = value instead\n",
      "\n",
      "See the caveats in the documentation: https://pandas.pydata.org/pandas-docs/stable/user_guide/indexing.html#returning-a-view-versus-a-copy\n",
      "  df['Request timestamp'] = pd.to_datetime(df['Request timestamp'], infer_datetime_format=True);\n",
      "C:\\Users\\lenovo\\AppData\\Local\\Temp\\ipykernel_13688\\2145226266.py:3: SettingWithCopyWarning: \n",
      "A value is trying to be set on a copy of a slice from a DataFrame.\n",
      "Try using .loc[row_indexer,col_indexer] = value instead\n",
      "\n",
      "See the caveats in the documentation: https://pandas.pydata.org/pandas-docs/stable/user_guide/indexing.html#returning-a-view-versus-a-copy\n",
      "  df['Drop timestamp'] = pd.to_datetime(df['Drop timestamp'], infer_datetime_format=True);\n"
     ]
    }
   ],
   "source": [
    "## to make the datetime column has same formate \n",
    "df['Request timestamp'] = pd.to_datetime(df['Request timestamp'], infer_datetime_format=True);\n",
    "df['Drop timestamp'] = pd.to_datetime(df['Drop timestamp'], infer_datetime_format=True);\n",
    "df.info();"
   ]
  },
  {
   "cell_type": "code",
   "execution_count": 19,
   "id": "ecbbd186",
   "metadata": {},
   "outputs": [
    {
     "name": "stdout",
     "output_type": "stream",
     "text": [
      "<class 'pandas.core.frame.DataFrame'>\n",
      "Int64Index: 4095 entries, 0 to 4094\n",
      "Data columns (total 11 columns):\n",
      " #   Column             Non-Null Count  Dtype         \n",
      "---  ------             --------------  -----         \n",
      " 0   Pickup point       4095 non-null   object        \n",
      " 1   Driver id          4095 non-null   float64       \n",
      " 2   Status             4095 non-null   object        \n",
      " 3   Request timestamp  4095 non-null   datetime64[ns]\n",
      " 4   Drop timestamp     2831 non-null   datetime64[ns]\n",
      " 5   month              4095 non-null   int64         \n",
      " 6   day                4095 non-null   int64         \n",
      " 7   S_hour             4095 non-null   int64         \n",
      " 8   S_minute           4095 non-null   int64         \n",
      " 9   E_hour             2831 non-null   float64       \n",
      " 10  E_minute           2831 non-null   float64       \n",
      "dtypes: datetime64[ns](2), float64(3), int64(4), object(2)\n",
      "memory usage: 383.9+ KB\n"
     ]
    },
    {
     "name": "stderr",
     "output_type": "stream",
     "text": [
      "C:\\Users\\lenovo\\AppData\\Local\\Temp\\ipykernel_13688\\557501154.py:1: SettingWithCopyWarning: \n",
      "A value is trying to be set on a copy of a slice from a DataFrame.\n",
      "Try using .loc[row_indexer,col_indexer] = value instead\n",
      "\n",
      "See the caveats in the documentation: https://pandas.pydata.org/pandas-docs/stable/user_guide/indexing.html#returning-a-view-versus-a-copy\n",
      "  df['month'] = df['Request timestamp'].dt.month\n",
      "C:\\Users\\lenovo\\AppData\\Local\\Temp\\ipykernel_13688\\557501154.py:2: SettingWithCopyWarning: \n",
      "A value is trying to be set on a copy of a slice from a DataFrame.\n",
      "Try using .loc[row_indexer,col_indexer] = value instead\n",
      "\n",
      "See the caveats in the documentation: https://pandas.pydata.org/pandas-docs/stable/user_guide/indexing.html#returning-a-view-versus-a-copy\n",
      "  df['day'] = df['Request timestamp'].dt.day\n",
      "C:\\Users\\lenovo\\AppData\\Local\\Temp\\ipykernel_13688\\557501154.py:3: SettingWithCopyWarning: \n",
      "A value is trying to be set on a copy of a slice from a DataFrame.\n",
      "Try using .loc[row_indexer,col_indexer] = value instead\n",
      "\n",
      "See the caveats in the documentation: https://pandas.pydata.org/pandas-docs/stable/user_guide/indexing.html#returning-a-view-versus-a-copy\n",
      "  df['S_hour'] = df['Request timestamp'].dt.hour\n",
      "C:\\Users\\lenovo\\AppData\\Local\\Temp\\ipykernel_13688\\557501154.py:4: SettingWithCopyWarning: \n",
      "A value is trying to be set on a copy of a slice from a DataFrame.\n",
      "Try using .loc[row_indexer,col_indexer] = value instead\n",
      "\n",
      "See the caveats in the documentation: https://pandas.pydata.org/pandas-docs/stable/user_guide/indexing.html#returning-a-view-versus-a-copy\n",
      "  df['S_minute'] = df['Request timestamp'].dt.minute\n",
      "C:\\Users\\lenovo\\AppData\\Local\\Temp\\ipykernel_13688\\557501154.py:5: SettingWithCopyWarning: \n",
      "A value is trying to be set on a copy of a slice from a DataFrame.\n",
      "Try using .loc[row_indexer,col_indexer] = value instead\n",
      "\n",
      "See the caveats in the documentation: https://pandas.pydata.org/pandas-docs/stable/user_guide/indexing.html#returning-a-view-versus-a-copy\n",
      "  df['E_hour'] = df['Drop timestamp'].dt.hour\n",
      "C:\\Users\\lenovo\\AppData\\Local\\Temp\\ipykernel_13688\\557501154.py:6: SettingWithCopyWarning: \n",
      "A value is trying to be set on a copy of a slice from a DataFrame.\n",
      "Try using .loc[row_indexer,col_indexer] = value instead\n",
      "\n",
      "See the caveats in the documentation: https://pandas.pydata.org/pandas-docs/stable/user_guide/indexing.html#returning-a-view-versus-a-copy\n",
      "  df['E_minute'] = df['Drop timestamp'].dt.minute\n"
     ]
    }
   ],
   "source": [
    "df['month'] = df['Request timestamp'].dt.month\n",
    "df['day'] = df['Request timestamp'].dt.day\n",
    "df['S_hour'] = df['Request timestamp'].dt.hour\n",
    "df['S_minute'] = df['Request timestamp'].dt.minute\n",
    "df['E_hour'] = df['Drop timestamp'].dt.hour\n",
    "df['E_minute'] = df['Drop timestamp'].dt.minute\n",
    "df.info();"
   ]
  },
  {
   "cell_type": "code",
   "execution_count": 20,
   "id": "7b0b1923",
   "metadata": {},
   "outputs": [],
   "source": [
    "#df['year'] = df['Request timestamp'].dt.year\n",
    "#df['week'] = df['Request timestamp'].dt.week\n",
    "#df['day'] = df['Request timestamp'].dt.day\n",
    "#df['week day'] = df['Request timestamp'].dt.weekday"
   ]
  },
  {
   "cell_type": "code",
   "execution_count": 21,
   "id": "a21a6be1",
   "metadata": {},
   "outputs": [
    {
     "name": "stderr",
     "output_type": "stream",
     "text": [
      "C:\\Users\\lenovo\\AppData\\Local\\Temp\\ipykernel_13688\\2308683265.py:2: SettingWithCopyWarning: \n",
      "A value is trying to be set on a copy of a slice from a DataFrame.\n",
      "Try using .loc[row_indexer,col_indexer] = value instead\n",
      "\n",
      "See the caveats in the documentation: https://pandas.pydata.org/pandas-docs/stable/user_guide/indexing.html#returning-a-view-versus-a-copy\n",
      "  df['trip_time']=0\n",
      "C:\\Users\\lenovo\\AppData\\Local\\Temp\\ipykernel_13688\\2308683265.py:7: SettingWithCopyWarning: \n",
      "A value is trying to be set on a copy of a slice from a DataFrame\n",
      "\n",
      "See the caveats in the documentation: https://pandas.pydata.org/pandas-docs/stable/user_guide/indexing.html#returning-a-view-versus-a-copy\n",
      "  df['trip_time'][i] = (df['E_hour'][i]-df['S_hour'][i]-1) + (60-df['S_minute'][i]+df['E_minute'][i])/60\n",
      "C:\\Users\\lenovo\\AppData\\Local\\Temp\\ipykernel_13688\\2308683265.py:5: SettingWithCopyWarning: \n",
      "A value is trying to be set on a copy of a slice from a DataFrame\n",
      "\n",
      "See the caveats in the documentation: https://pandas.pydata.org/pandas-docs/stable/user_guide/indexing.html#returning-a-view-versus-a-copy\n",
      "  df['trip_time'][i] = (df['E_minute'][i]-df['S_minute'][i])/60\n",
      "C:\\Users\\lenovo\\AppData\\Local\\Temp\\ipykernel_13688\\2308683265.py:9: SettingWithCopyWarning: \n",
      "A value is trying to be set on a copy of a slice from a DataFrame\n",
      "\n",
      "See the caveats in the documentation: https://pandas.pydata.org/pandas-docs/stable/user_guide/indexing.html#returning-a-view-versus-a-copy\n",
      "  df['trip_time'][i] = (24-df['S_hour'][i]+df['E_hour'][i]-1) + (60-df['S_minute'][i]+df['E_minute'][i])/60\n",
      "C:\\Users\\lenovo\\AppData\\Local\\Temp\\ipykernel_13688\\2308683265.py:12: SettingWithCopyWarning: \n",
      "A value is trying to be set on a copy of a slice from a DataFrame.\n",
      "Try using .loc[row_indexer,col_indexer] = value instead\n",
      "\n",
      "See the caveats in the documentation: https://pandas.pydata.org/pandas-docs/stable/user_guide/indexing.html#returning-a-view-versus-a-copy\n",
      "  df['trip_time'] = df['trip_time'].fillna(0)\n",
      "C:\\Users\\lenovo\\AppData\\Local\\Temp\\ipykernel_13688\\2308683265.py:15: SettingWithCopyWarning: \n",
      "A value is trying to be set on a copy of a slice from a DataFrame\n",
      "\n",
      "See the caveats in the documentation: https://pandas.pydata.org/pandas-docs/stable/user_guide/indexing.html#returning-a-view-versus-a-copy\n",
      "  df.drop(['E_hour','E_minute'],axis=1,inplace=True)\n",
      "C:\\Users\\lenovo\\AppData\\Local\\Temp\\ipykernel_13688\\2308683265.py:18: SettingWithCopyWarning: \n",
      "A value is trying to be set on a copy of a slice from a DataFrame\n",
      "\n",
      "See the caveats in the documentation: https://pandas.pydata.org/pandas-docs/stable/user_guide/indexing.html#returning-a-view-versus-a-copy\n",
      "  df.drop(['Request timestamp','Drop timestamp'],axis=1,inplace=True);\n"
     ]
    }
   ],
   "source": [
    "## algorithm to find the time of the trip XD\n",
    "df['trip_time']=0\n",
    "for i in range(df.shape[0]):\n",
    "    if df['S_hour'][i] == df['E_hour'][i]:\n",
    "        df['trip_time'][i] = (df['E_minute'][i]-df['S_minute'][i])/60\n",
    "    elif df['S_hour'][i] < df['E_hour'][i]:\n",
    "        df['trip_time'][i] = (df['E_hour'][i]-df['S_hour'][i]-1) + (60-df['S_minute'][i]+df['E_minute'][i])/60\n",
    "    else :\n",
    "        df['trip_time'][i] = (24-df['S_hour'][i]+df['E_hour'][i]-1) + (60-df['S_minute'][i]+df['E_minute'][i])/60\n",
    "\n",
    "## filling nan by zero as it represents trips has no time \"canceled trips\"\n",
    "df['trip_time'] = df['trip_time'].fillna(0)\n",
    "\n",
    "##there is no need for end time after calculating trip time & as end time has v.small corr\n",
    "df.drop(['E_hour','E_minute'],axis=1,inplace=True)\n",
    "\n",
    "#after getting all important info in datetime columns\n",
    "df.drop(['Request timestamp','Drop timestamp'],axis=1,inplace=True);"
   ]
  },
  {
   "cell_type": "code",
   "execution_count": 22,
   "id": "2c3de46b",
   "metadata": {},
   "outputs": [
    {
     "name": "stdout",
     "output_type": "stream",
     "text": [
      "<class 'pandas.core.frame.DataFrame'>\n",
      "Int64Index: 4095 entries, 0 to 4094\n",
      "Data columns (total 10 columns):\n",
      " #   Column                 Non-Null Count  Dtype  \n",
      "---  ------                 --------------  -----  \n",
      " 0   Driver id              4095 non-null   float64\n",
      " 1   month                  4095 non-null   int64  \n",
      " 2   day                    4095 non-null   int64  \n",
      " 3   S_hour                 4095 non-null   int64  \n",
      " 4   S_minute               4095 non-null   int64  \n",
      " 5   trip_time              4095 non-null   float64\n",
      " 6   Pickup point_Airport   4095 non-null   uint8  \n",
      " 7   Pickup point_City      4095 non-null   uint8  \n",
      " 8   Status_Cancelled       4095 non-null   uint8  \n",
      " 9   Status_Trip Completed  4095 non-null   uint8  \n",
      "dtypes: float64(2), int64(4), uint8(4)\n",
      "memory usage: 369.0 KB\n"
     ]
    }
   ],
   "source": [
    "df=pd.get_dummies(df,columns=['Pickup point','Status'])\n",
    "df.info()"
   ]
  },
  {
   "cell_type": "code",
   "execution_count": 23,
   "id": "773612c1",
   "metadata": {},
   "outputs": [
    {
     "data": {
      "text/html": [
       "<div>\n",
       "<style scoped>\n",
       "    .dataframe tbody tr th:only-of-type {\n",
       "        vertical-align: middle;\n",
       "    }\n",
       "\n",
       "    .dataframe tbody tr th {\n",
       "        vertical-align: top;\n",
       "    }\n",
       "\n",
       "    .dataframe thead th {\n",
       "        text-align: right;\n",
       "    }\n",
       "</style>\n",
       "<table border=\"1\" class=\"dataframe\">\n",
       "  <thead>\n",
       "    <tr style=\"text-align: right;\">\n",
       "      <th></th>\n",
       "      <th>Driver id</th>\n",
       "      <th>month</th>\n",
       "      <th>day</th>\n",
       "      <th>S_hour</th>\n",
       "      <th>S_minute</th>\n",
       "      <th>trip_time</th>\n",
       "      <th>Pickup point_Airport</th>\n",
       "      <th>Pickup point_City</th>\n",
       "      <th>Status_Cancelled</th>\n",
       "      <th>Status_Trip Completed</th>\n",
       "    </tr>\n",
       "  </thead>\n",
       "  <tbody>\n",
       "    <tr>\n",
       "      <th>0</th>\n",
       "      <td>1.0</td>\n",
       "      <td>11</td>\n",
       "      <td>7</td>\n",
       "      <td>11</td>\n",
       "      <td>51</td>\n",
       "      <td>1.150000</td>\n",
       "      <td>1</td>\n",
       "      <td>0</td>\n",
       "      <td>0</td>\n",
       "      <td>1</td>\n",
       "    </tr>\n",
       "    <tr>\n",
       "      <th>1</th>\n",
       "      <td>1.0</td>\n",
       "      <td>11</td>\n",
       "      <td>7</td>\n",
       "      <td>17</td>\n",
       "      <td>57</td>\n",
       "      <td>0.833333</td>\n",
       "      <td>1</td>\n",
       "      <td>0</td>\n",
       "      <td>0</td>\n",
       "      <td>1</td>\n",
       "    </tr>\n",
       "    <tr>\n",
       "      <th>2</th>\n",
       "      <td>1.0</td>\n",
       "      <td>12</td>\n",
       "      <td>7</td>\n",
       "      <td>9</td>\n",
       "      <td>17</td>\n",
       "      <td>0.683333</td>\n",
       "      <td>0</td>\n",
       "      <td>1</td>\n",
       "      <td>0</td>\n",
       "      <td>1</td>\n",
       "    </tr>\n",
       "    <tr>\n",
       "      <th>3</th>\n",
       "      <td>1.0</td>\n",
       "      <td>12</td>\n",
       "      <td>7</td>\n",
       "      <td>21</td>\n",
       "      <td>8</td>\n",
       "      <td>0.916667</td>\n",
       "      <td>1</td>\n",
       "      <td>0</td>\n",
       "      <td>0</td>\n",
       "      <td>1</td>\n",
       "    </tr>\n",
       "    <tr>\n",
       "      <th>4</th>\n",
       "      <td>1.0</td>\n",
       "      <td>7</td>\n",
       "      <td>13</td>\n",
       "      <td>8</td>\n",
       "      <td>33</td>\n",
       "      <td>0.866667</td>\n",
       "      <td>0</td>\n",
       "      <td>1</td>\n",
       "      <td>0</td>\n",
       "      <td>1</td>\n",
       "    </tr>\n",
       "  </tbody>\n",
       "</table>\n",
       "</div>"
      ],
      "text/plain": [
       "   Driver id  month  day  S_hour  S_minute  trip_time  Pickup point_Airport  \\\n",
       "0        1.0     11    7      11        51   1.150000                     1   \n",
       "1        1.0     11    7      17        57   0.833333                     1   \n",
       "2        1.0     12    7       9        17   0.683333                     0   \n",
       "3        1.0     12    7      21         8   0.916667                     1   \n",
       "4        1.0      7   13       8        33   0.866667                     0   \n",
       "\n",
       "   Pickup point_City  Status_Cancelled  Status_Trip Completed  \n",
       "0                  0                 0                      1  \n",
       "1                  0                 0                      1  \n",
       "2                  1                 0                      1  \n",
       "3                  0                 0                      1  \n",
       "4                  1                 0                      1  "
      ]
     },
     "execution_count": 23,
     "metadata": {},
     "output_type": "execute_result"
    }
   ],
   "source": [
    "df.head()"
   ]
  },
  {
   "cell_type": "code",
   "execution_count": 29,
   "id": "ffd817e4",
   "metadata": {},
   "outputs": [
    {
     "data": {
      "text/html": [
       "<div>\n",
       "<style scoped>\n",
       "    .dataframe tbody tr th:only-of-type {\n",
       "        vertical-align: middle;\n",
       "    }\n",
       "\n",
       "    .dataframe tbody tr th {\n",
       "        vertical-align: top;\n",
       "    }\n",
       "\n",
       "    .dataframe thead th {\n",
       "        text-align: right;\n",
       "    }\n",
       "</style>\n",
       "<table border=\"1\" class=\"dataframe\">\n",
       "  <thead>\n",
       "    <tr style=\"text-align: right;\">\n",
       "      <th></th>\n",
       "      <th>Status_Cancelled</th>\n",
       "      <th>Status_Trip Completed</th>\n",
       "    </tr>\n",
       "  </thead>\n",
       "  <tbody>\n",
       "    <tr>\n",
       "      <th>Driver id</th>\n",
       "      <td>0.020394</td>\n",
       "      <td>-0.020394</td>\n",
       "    </tr>\n",
       "    <tr>\n",
       "      <th>month</th>\n",
       "      <td>-0.013140</td>\n",
       "      <td>0.013140</td>\n",
       "    </tr>\n",
       "    <tr>\n",
       "      <th>day</th>\n",
       "      <td>0.010268</td>\n",
       "      <td>-0.010268</td>\n",
       "    </tr>\n",
       "    <tr>\n",
       "      <th>S_hour</th>\n",
       "      <td>-0.257622</td>\n",
       "      <td>0.257622</td>\n",
       "    </tr>\n",
       "    <tr>\n",
       "      <th>S_minute</th>\n",
       "      <td>0.003446</td>\n",
       "      <td>-0.003446</td>\n",
       "    </tr>\n",
       "    <tr>\n",
       "      <th>trip_time</th>\n",
       "      <td>-0.903119</td>\n",
       "      <td>0.903119</td>\n",
       "    </tr>\n",
       "    <tr>\n",
       "      <th>Pickup point_Airport</th>\n",
       "      <td>-0.298213</td>\n",
       "      <td>0.298213</td>\n",
       "    </tr>\n",
       "    <tr>\n",
       "      <th>Pickup point_City</th>\n",
       "      <td>0.298213</td>\n",
       "      <td>-0.298213</td>\n",
       "    </tr>\n",
       "    <tr>\n",
       "      <th>Status_Cancelled</th>\n",
       "      <td>1.000000</td>\n",
       "      <td>-1.000000</td>\n",
       "    </tr>\n",
       "    <tr>\n",
       "      <th>Status_Trip Completed</th>\n",
       "      <td>-1.000000</td>\n",
       "      <td>1.000000</td>\n",
       "    </tr>\n",
       "  </tbody>\n",
       "</table>\n",
       "</div>"
      ],
      "text/plain": [
       "                       Status_Cancelled  Status_Trip Completed\n",
       "Driver id                      0.020394              -0.020394\n",
       "month                         -0.013140               0.013140\n",
       "day                            0.010268              -0.010268\n",
       "S_hour                        -0.257622               0.257622\n",
       "S_minute                       0.003446              -0.003446\n",
       "trip_time                     -0.903119               0.903119\n",
       "Pickup point_Airport          -0.298213               0.298213\n",
       "Pickup point_City              0.298213              -0.298213\n",
       "Status_Cancelled               1.000000              -1.000000\n",
       "Status_Trip Completed         -1.000000               1.000000"
      ]
     },
     "execution_count": 29,
     "metadata": {},
     "output_type": "execute_result"
    }
   ],
   "source": [
    "df.corr()[['Status_Cancelled','Status_Trip Completed']]"
   ]
  },
  {
   "cell_type": "markdown",
   "id": "bdb05b66",
   "metadata": {},
   "source": [
    "*it was clear that the most important features are : Start hour , trip_time , pickup point*"
   ]
  },
  {
   "cell_type": "code",
   "execution_count": null,
   "id": "50cc30ba",
   "metadata": {},
   "outputs": [],
   "source": []
  }
 ],
 "metadata": {
  "kernelspec": {
   "display_name": "Python 3 (ipykernel)",
   "language": "python",
   "name": "python3"
  },
  "language_info": {
   "codemirror_mode": {
    "name": "ipython",
    "version": 3
   },
   "file_extension": ".py",
   "mimetype": "text/x-python",
   "name": "python",
   "nbconvert_exporter": "python",
   "pygments_lexer": "ipython3",
   "version": "3.9.12"
  }
 },
 "nbformat": 4,
 "nbformat_minor": 5
}
